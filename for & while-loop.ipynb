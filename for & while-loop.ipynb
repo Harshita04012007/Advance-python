{
 "cells": [
  {
   "cell_type": "code",
   "execution_count": 1,
   "id": "344d34d7-72a4-4e89-a910-35a38d5ca202",
   "metadata": {},
   "outputs": [
    {
     "name": "stdout",
     "output_type": "stream",
     "text": [
      "1\n",
      "2\n",
      "3\n",
      "4\n",
      "5\n"
     ]
    }
   ],
   "source": [
    "i=1\n",
    "for i in range(1,6):\n",
    "  print(i)"
   ]
  },
  {
   "cell_type": "code",
   "execution_count": 2,
   "id": "df2416ae-36ad-4249-a6e7-5f9157627d97",
   "metadata": {},
   "outputs": [
    {
     "name": "stdout",
     "output_type": "stream",
     "text": [
      "apple\n",
      "cheery\n",
      "watermelon\n"
     ]
    }
   ],
   "source": [
    "fruit = [\"apple\",\"cheery\", \"watermelon\"]\n",
    "for fruits in fruit:\n",
    "   print(fruits)"
   ]
  },
  {
   "cell_type": "code",
   "execution_count": null,
   "id": "2e892e53-e131-4bd6-9c11-9d61135c3ff3",
   "metadata": {},
   "outputs": [],
   "source": []
  },
  {
   "cell_type": "code",
   "execution_count": null,
   "id": "d434b248-2779-4834-ab32-5b20c86230ab",
   "metadata": {},
   "outputs": [],
   "source": [
    "for num in [1,2,3,4,5,6]:\n",
    "    if num==5:\n",
    "        print(\"number\")\n",
    "        continue\n",
    "     print(num)\n",
    "              "
   ]
  },
  {
   "cell_type": "code",
   "execution_count": null,
   "id": "52f00767-2eb0-4f15-a2df-278ca08856c4",
   "metadata": {},
   "outputs": [],
   "source": [
    "city=[\"Ambala\",\"banaras\",\"delhi\",\"up\"]\n",
    "for index,cities in enumerate(city):\n",
    "    print(index,cities)"
   ]
  },
  {
   "cell_type": "code",
   "execution_count": null,
   "id": "dfc9e6a6-4709-419b-a9b1-d178f03bb09a",
   "metadata": {},
   "outputs": [],
   "source": [
    "fruit=[\"apple\",\"banana\",\"cherry\"]\n",
    "for index,fruits in enumerate(fruit,start=1):\n",
    "    print(index,fruits)"
   ]
  },
  {
   "cell_type": "code",
   "execution_count": null,
   "id": "338385a1-49dd-47e1-a18b-22a5eeb1bf2a",
   "metadata": {},
   "outputs": [],
   "source": [
    "num=2\n",
    "for i in range(1,11):\n",
    "    print(num,'x',i,'=',num*i)\n",
    "\n",
    " "
   ]
  },
  {
   "cell_type": "code",
   "execution_count": null,
   "id": "b8a73560-9cb6-4600-b1b3-35fa19e359e3",
   "metadata": {},
   "outputs": [],
   "source": [
    "num=5\n",
    "for i in range(1,11):\n",
    "    print(num,'x',i,'=',num*i)"
   ]
  },
  {
   "cell_type": "code",
   "execution_count": null,
   "id": "8f61816e-8b95-4dac-9688-3907d73b576d",
   "metadata": {},
   "outputs": [],
   "source": [
    "table=int(input(\"enter a table\"))\n",
    "for i in range(0,11):\n",
    "     print(table,\"x\",i,\"=\",table*i)"
   ]
  },
  {
   "cell_type": "code",
   "execution_count": null,
   "id": "762def0f-2630-4949-bdd2-206efcb37180",
   "metadata": {},
   "outputs": [],
   "source": [
    "nt==int(input(\"enter a table\"))\n",
    "for i in range(1,11):\n",
    "     print(nt*1,\"x\",num*10,\"=\",nt*i)"
   ]
  },
  {
   "cell_type": "code",
   "execution_count": null,
   "id": "a7476435-f3f5-44fa-9dc1-e178a6e7b496",
   "metadata": {},
   "outputs": [],
   "source": [
    "for i in[1,2,3]:\n",
    "    for j in['a','b','c']:\n",
    "        print(i,j)"
   ]
  },
  {
   "cell_type": "code",
   "execution_count": 4,
   "id": "5750ae8d-5031-48cf-a31d-31dc793a5bc3",
   "metadata": {},
   "outputs": [
    {
     "name": "stdout",
     "output_type": "stream",
     "text": [
      "rac\n"
     ]
    }
   ],
   "source": [
    "text='car'\n",
    "reversed_text=\"\"\n",
    "for char in text:\n",
    "    reversed_text=char + reversed_text\n",
    "print(reversed_text)"
   ]
  },
  {
   "cell_type": "code",
   "execution_count": null,
   "id": "a8d557c7-bd0c-4665-9028-e7492b60c6b8",
   "metadata": {},
   "outputs": [],
   "source": [
    "n=int(input('enter a no.'))\n",
    "#total=0\n",
    "for num in range(1,n + 1):\n",
    "    total += num\n",
    "print('sum:',total)"
   ]
  },
  {
   "cell_type": "code",
   "execution_count": null,
   "id": "41f77da5-9afa-4484-93ae-9c708b9ce638",
   "metadata": {},
   "outputs": [],
   "source": [
    "#GUESS NO.\n",
    "secret_number = 18\n",
    "guess=17\n",
    "while (True):\n",
    "    if int(num)>secret_num:\n",
    "        print(\"guess a lower number\")\n",
    "        num=input()\n",
    "    if int(num)<secret_num:\n",
    "        print(\"guess a higher number\")\n",
    "        num=input()\n",
    "     if int(num)==secret_num:\n",
    "         print(\"it is matched\")\n",
    "         num=input()"
   ]
  },
  {
   "cell_type": "code",
   "execution_count": 1,
   "id": "63adbc1a-373e-4a9b-88f8-9c2649829661",
   "metadata": {},
   "outputs": [
    {
     "name": "stdin",
     "output_type": "stream",
     "text": [
      "guess the number: 1\n"
     ]
    },
    {
     "name": "stdout",
     "output_type": "stream",
     "text": [
      "correctly guessed!!the number actually is 1\n"
     ]
    },
    {
     "name": "stdin",
     "output_type": "stream",
     "text": [
      "guess the number: 2\n"
     ]
    },
    {
     "name": "stdout",
     "output_type": "stream",
     "text": [
      "correctly guessed!!the number actually is 2\n"
     ]
    },
    {
     "name": "stdin",
     "output_type": "stream",
     "text": [
      "guess the number: 4\n"
     ]
    },
    {
     "name": "stdout",
     "output_type": "stream",
     "text": [
      "correctly guessed!!the number actually is 4\n"
     ]
    },
    {
     "name": "stdin",
     "output_type": "stream",
     "text": [
      "guess the number: 6\n"
     ]
    },
    {
     "name": "stdout",
     "output_type": "stream",
     "text": [
      "correctly guessed!!the number actually is 6\n"
     ]
    },
    {
     "name": "stdin",
     "output_type": "stream",
     "text": [
      "guess the number: 8\n"
     ]
    },
    {
     "name": "stdout",
     "output_type": "stream",
     "text": [
      "correctly guessed!!the number actually is 8\n"
     ]
    },
    {
     "name": "stdin",
     "output_type": "stream",
     "text": [
      "guess the number: 9\n"
     ]
    },
    {
     "name": "stdout",
     "output_type": "stream",
     "text": [
      "correctly guessed!!the number actually is 9\n"
     ]
    },
    {
     "name": "stdin",
     "output_type": "stream",
     "text": [
      "guess the number: \n"
     ]
    },
    {
     "ename": "ValueError",
     "evalue": "invalid literal for int() with base 10: ''",
     "output_type": "error",
     "traceback": [
      "\u001b[1;31m---------------------------------------------------------------------------\u001b[0m",
      "\u001b[1;31mValueError\u001b[0m                                Traceback (most recent call last)",
      "Cell \u001b[1;32mIn[1], line 4\u001b[0m\n\u001b[0;32m      2\u001b[0m guess\u001b[38;5;241m=\u001b[39m\u001b[38;5;241m1\u001b[39m\n\u001b[0;32m      3\u001b[0m \u001b[38;5;28;01mwhile\u001b[39;00m guess\u001b[38;5;241m!=\u001b[39msecret_num:\n\u001b[1;32m----> 4\u001b[0m     guess\u001b[38;5;241m=\u001b[39m\u001b[38;5;28mint\u001b[39m(\u001b[38;5;28minput\u001b[39m(\u001b[38;5;124m\"\u001b[39m\u001b[38;5;124mguess the number:\u001b[39m\u001b[38;5;124m\"\u001b[39m))\n\u001b[0;32m      5\u001b[0m     \u001b[38;5;28mprint\u001b[39m(\u001b[38;5;124m\"\u001b[39m\u001b[38;5;124mcorrectly guessed!!the number actually is\u001b[39m\u001b[38;5;124m\"\u001b[39m,guess)\n",
      "\u001b[1;31mValueError\u001b[0m: invalid literal for int() with base 10: ''"
     ]
    }
   ],
   "source": [
    "secret_num=7\n",
    "guess=1\n",
    "while guess!=secret_num:\n",
    "    guess=int(input(\"guess the number:\"))\n",
    "    print(\"correctly guessed!!the number actually is\",guess)"
   ]
  },
  {
   "cell_type": "code",
   "execution_count": null,
   "id": "46d38c5f-a96e-44cf-bb2c-6f1b988fb2e3",
   "metadata": {},
   "outputs": [],
   "source": [
    "#sum digits of a number using while loop.\n",
    "\n",
    "num=int(input(\"enter of the number\"))\n"
   ]
  }
 ],
 "metadata": {
  "kernelspec": {
   "display_name": "Python 3 (ipykernel)",
   "language": "python",
   "name": "python3"
  },
  "language_info": {
   "codemirror_mode": {
    "name": "ipython",
    "version": 3
   },
   "file_extension": ".py",
   "mimetype": "text/x-python",
   "name": "python",
   "nbconvert_exporter": "python",
   "pygments_lexer": "ipython3",
   "version": "3.12.4"
  }
 },
 "nbformat": 4,
 "nbformat_minor": 5
}
