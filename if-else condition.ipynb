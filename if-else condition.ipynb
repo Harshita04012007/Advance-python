{
 "cells": [
  {
   "cell_type": "code",
   "execution_count": 1,
   "id": "a768a2a0-0b01-461d-af8c-b6e696586df3",
   "metadata": {},
   "outputs": [
    {
     "name": "stdout",
     "output_type": "stream",
     "text": [
      "entered number is odd\n"
     ]
    }
   ],
   "source": [
    "num=3\n",
    "if num%2==0:\n",
    "    print(\"entered number is even\")\n",
    "else:\n",
    "    print(\"entered number is odd\")"
   ]
  },
  {
   "cell_type": "code",
   "execution_count": 2,
   "id": "83ace677-7b67-4119-bc7a-20d6f16a5b66",
   "metadata": {},
   "outputs": [
    {
     "name": "stdin",
     "output_type": "stream",
     "text": [
      "enter a number 2\n"
     ]
    },
    {
     "name": "stdout",
     "output_type": "stream",
     "text": [
      "no is positive\n"
     ]
    }
   ],
   "source": [
    "sum=int(input(\"enter a number\"))\n",
    "if sum>0:\n",
    "    print(\"no is positive\")\n",
    "else:\n",
    "    print(\"no is negative\")"
   ]
  },
  {
   "cell_type": "code",
   "execution_count": 3,
   "id": "597532e1-a330-4ff1-a7f3-9b4623292e5f",
   "metadata": {},
   "outputs": [
    {
     "name": "stdin",
     "output_type": "stream",
     "text": [
      "enter a number 3\n"
     ]
    },
    {
     "name": "stdout",
     "output_type": "stream",
     "text": [
      "positive number\n"
     ]
    }
   ],
   "source": [
    "num=float(input(\"enter a number\"))\n",
    "if num>0:\n",
    "    print(\"positive number\")\n",
    "elif num<0:\n",
    "    print(\"negative number\")\n",
    "else:\n",
    "    print(\"zero\")"
   ]
  },
  {
   "cell_type": "code",
   "execution_count": 4,
   "id": "d309b192-3ca8-4a4b-a5a3-062c8e580386",
   "metadata": {},
   "outputs": [
    {
     "name": "stdin",
     "output_type": "stream",
     "text": [
      "enter a number 4\n",
      "enter a number 3\n",
      "enter a number 3\n"
     ]
    },
    {
     "name": "stdout",
     "output_type": "stream",
     "text": [
      "lowest\n"
     ]
    }
   ],
   "source": [
    "numa=float(input(\"enter a number\"))\n",
    "numb=float(input(\"enter a number\"))\n",
    "numc=float(input(\"enter a number\"))\n",
    "if numa>numb>numc>0:\n",
    "    print(\"greatest\")\n",
    "elif numb>numc<0:\n",
    "    print(\"middlest\")\n",
    "else:\n",
    "    print(\"lowest\")\n",
    "\n"
   ]
  },
  {
   "cell_type": "code",
   "execution_count": 1,
   "id": "a17f67d6-b591-4537-aea3-2cfb26dcd494",
   "metadata": {},
   "outputs": [
    {
     "name": "stdin",
     "output_type": "stream",
     "text": [
      "enter the amt 30000\n"
     ]
    },
    {
     "name": "stdout",
     "output_type": "stream",
     "text": [
      "dispensing 30000\n"
     ]
    }
   ],
   "source": [
    "#atm machine question bal=50000 entered atm>50000 enterted amt<50000 suff.bal if entered amt is multiple of 100(dispense the money)\n",
    "bal=50000\n",
    "#user input\n",
    "entered_amt=int(input(\"enter the amt\"))\n",
    "#conditional checking\n",
    "if entered_amt>bal:\n",
    "    print(\"insufficient bal\")\n",
    "elif entered_amt <=bal:\n",
    "    if entered_amt % 100 ==0:\n",
    "        print(\"dispensing\",entered_amt)\n",
    "    else:\n",
    "        print(\"amt must be a multiple of 100\")"
   ]
  },
  {
   "cell_type": "code",
   "execution_count": 2,
   "id": "534c7fbc-7827-4f0f-a308-1a9efc55a783",
   "metadata": {},
   "outputs": [
    {
     "name": "stdin",
     "output_type": "stream",
     "text": [
      "enter a no 22\n"
     ]
    },
    {
     "name": "stdout",
     "output_type": "stream",
     "text": [
      "493\n"
     ]
    }
   ],
   "source": [
    "no=int(input(\"enter a no\"))\n",
    "if no>5:\n",
    "    print(no**2+9)\n",
    "elif no<=5:\n",
    "    print(no*5)\n",
    "else:\n",
    "    print(\"invalid sentax\")"
   ]
  },
  {
   "cell_type": "code",
   "execution_count": 6,
   "id": "e734d518-c9cc-4e74-a6e4-e0b0b814ff6b",
   "metadata": {},
   "outputs": [
    {
     "name": "stdin",
     "output_type": "stream",
     "text": [
      "enter  the amount to withdraw 60000\n"
     ]
    },
    {
     "name": "stdout",
     "output_type": "stream",
     "text": [
      "insufficient balance\n"
     ]
    }
   ],
   "source": [
    "start_balance=50000\n",
    "enteredamount=int(input(\"enter  the amount to withdraw\"))\n",
    "if enteredamount>start_balance:\n",
    "    print(\"insufficient balance\")\n",
    "elif enteredamount < start_balance:\n",
    "    print(\"sufficient balance\")\n",
    "    if start_balance % enteredamount ==0:\n",
    "       print(\"dispensing amount\")\n",
    "else:\n",
    "       print(\"please enter amount in a multiple of 100\")"
   ]
  },
  {
   "cell_type": "code",
   "execution_count": 18,
   "id": "55cec329-8c53-4547-8a26-d7a8362b5f25",
   "metadata": {},
   "outputs": [
    {
     "ename": "IndentationError",
     "evalue": "unexpected indent (2869826016.py, line 15)",
     "output_type": "error",
     "traceback": [
      "\u001b[1;36m  Cell \u001b[1;32mIn[18], line 15\u001b[1;36m\u001b[0m\n\u001b[1;33m    print(num1,operator,num2,\"=\",result)\u001b[0m\n\u001b[1;37m    ^\u001b[0m\n\u001b[1;31mIndentationError\u001b[0m\u001b[1;31m:\u001b[0m unexpected indent\n"
     ]
    }
   ],
   "source": [
    "#calculator\n",
    "num1=int(input(\"enter the first no.\"))\n",
    "operator=int(input(\"enter operator'+','-','*','/','**'\"))\n",
    "num2=int(input(\"enter the second no.\"))\n",
    "if operator==\"+\":\n",
    "   result(num1+num2)\n",
    "elif operator==\"-\":\n",
    "   result(num1-num2)\n",
    "elif operator==\"*\":\n",
    "   result(num1*num2)\n",
    "elif operator==\"/\":\n",
    "    result(num1/num2)\n",
    "else:\n",
    "   print(\"invalid operator\")\n",
    "    print(num1,operator,num2,\"=\",result)\n"
   ]
  },
  {
   "cell_type": "code",
   "execution_count": null,
   "id": "d86fc121-1a54-4134-b37e-eeddaf431417",
   "metadata": {},
   "outputs": [],
   "source": []
  }
 ],
 "metadata": {
  "kernelspec": {
   "display_name": "Python 3 (ipykernel)",
   "language": "python",
   "name": "python3"
  },
  "language_info": {
   "codemirror_mode": {
    "name": "ipython",
    "version": 3
   },
   "file_extension": ".py",
   "mimetype": "text/x-python",
   "name": "python",
   "nbconvert_exporter": "python",
   "pygments_lexer": "ipython3",
   "version": "3.12.4"
  }
 },
 "nbformat": 4,
 "nbformat_minor": 5
}
